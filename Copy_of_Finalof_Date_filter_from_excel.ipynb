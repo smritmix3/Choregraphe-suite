{
  "nbformat": 4,
  "nbformat_minor": 0,
  "metadata": {
    "colab": {
      "name": "Copy of Finalof Date_filter_from_excel",
      "provenance": [],
      "collapsed_sections": [],
      "include_colab_link": true
    },
    "kernelspec": {
      "name": "python3",
      "display_name": "Python 3"
    },
    "language_info": {
      "name": "python"
    }
  },
  "cells": [
    {
      "cell_type": "markdown",
      "metadata": {
        "id": "view-in-github",
        "colab_type": "text"
      },
      "source": [
        "<a href=\"https://colab.research.google.com/github/smritmix3/Choregraphe-suite/blob/master/Copy_of_Finalof_Date_filter_from_excel.ipynb\" target=\"_parent\"><img src=\"https://colab.research.google.com/assets/colab-badge.svg\" alt=\"Open In Colab\"/></a>"
      ]
    },
    {
      "cell_type": "code",
      "metadata": {
        "id": "v5RjnIVukJLr"
      },
      "source": [
        "# from google.colab import files\n",
        "  \n",
        "  \n",
        "# uploaded = files.upload()"
      ],
      "execution_count": null,
      "outputs": []
    },
    {
      "cell_type": "markdown",
      "source": [
        "# New Section"
      ],
      "metadata": {
        "id": "mGmuWSzcuZBB"
      }
    },
    {
      "cell_type": "markdown",
      "source": [
        "# New Section"
      ],
      "metadata": {
        "id": "Q0RNPuBHuZc8"
      }
    },
    {
      "cell_type": "code",
      "metadata": {
        "id": "gq0Lw6aPouig",
        "colab": {
          "base_uri": "https://localhost:8080/"
        },
        "outputId": "ea99b46e-b3ab-41bc-c5a6-cf4518bab59f"
      },
      "source": [
        "import pandas as pd\n",
        "from datetime import datetime, timedelta\n",
        "import io\n",
        "import numpy as np\n",
        "!pip install xlrd==1.2.0"
      ],
      "execution_count": null,
      "outputs": [
        {
          "output_type": "stream",
          "name": "stdout",
          "text": [
            "Requirement already satisfied: xlrd==1.2.0 in /usr/local/lib/python3.7/dist-packages (1.2.0)\n"
          ]
        }
      ]
    },
    {
      "cell_type": "code",
      "source": [
        "age = [1,2,3,6]"
      ],
      "metadata": {
        "id": "ob7mfEAbGCHo"
      },
      "execution_count": null,
      "outputs": []
    },
    {
      "cell_type": "code",
      "source": [
        "def get_date_excluding_weekends(date,no_of_days):\n",
        "  \n",
        "  totalDays = date - timedelta(no_of_days)\n",
        "  # print(\"====\" +str(totalDays.date()))\n",
        "  is_weekend = int((np.busday_count( totalDays.date(),date.date(), weekmask='Sat' or np.busday_count( totalDays.date(),date.date(), weekmask='Sun'))) or totalDays.weekday() > 4 or date.weekday() > 4)\n",
        "  print(is_weekend)\n",
        "  if(is_weekend):\n",
        "    print(\"Dates fall within weekend\")\n",
        "    return 1, totalDays-timedelta(2)\n",
        "  else:\n",
        "    return 0, totalDays"
      ],
      "metadata": {
        "id": "abwwaHHc0kgs"
      },
      "execution_count": null,
      "outputs": []
    },
    {
      "cell_type": "code",
      "source": [
        "# Simulating otherdays as today for testing \n",
        "# dateToday = datetime.now()-timedelta(10)\n",
        "dateToday = datetime.now()\n",
        "# print(\"today   \"+ str(dateToday))\n",
        "dateToday = dateToday.replace(minute=00, hour=00, second=00, microsecond = 000000)\n",
        "for i in age:\n",
        "  print(\"print age \"+ str(i))\n",
        "  if i == 1:\n",
        "    is_weekend, date_N_days_ago = get_date_excluding_weekends(dateToday,1)\n",
        "    start_date_1 = date_N_days_ago\n",
        "    end_date_1 = dateToday\n",
        "    age2_check = date_N_days_ago-timedelta(1)\n",
        "    if int(age2_check.weekday() > 4):\n",
        "      # print(\"Include weekend\")\n",
        "      start_date_1 = start_date_1-timedelta(2)\n",
        "    else:\n",
        "      start_date_1 = start_date_1\n",
        "  if i == 2:\n",
        "    is_weekend, date_N_days_ago = get_date_excluding_weekends(dateToday,2)\n",
        "    start_date_2 = date_N_days_ago\n",
        "    end_date_2 = date_N_days_ago\n",
        "    age2_check = date_N_days_ago-timedelta(1)\n",
        "    # print(date_N_days_ago)\n",
        "    if int(age2_check.weekday() > 4):\n",
        "      # print(\"Include weekend\")\n",
        "      start_date_2 = date_N_days_ago-timedelta(2)\n",
        "  if i >= 3 and i <= 5:\n",
        "    is_weekend, date_N_days_ago = get_date_excluding_weekends(dateToday,3)\n",
        "    start_date_3 = date_N_days_ago- timedelta(2)\n",
        "    if (start_date_3.weekday() > 4):\n",
        "      start_date_3 = start_date_3- timedelta(2)\n",
        "    end_date_3 = date_N_days_ago\n",
        "  if i > 5:\n",
        "    is_weekend, date_N_days_ago = get_date_excluding_weekends(dateToday,3)\n",
        "    # print(date_N_days_ago)\n",
        "    earliest_date = datetime.min \n",
        "    earliest_date = datetime(1,1,1,0,0)\n",
        "    start_date_6 = earliest_date\n",
        "    end_date_6 = date_N_days_ago- timedelta(2)\n",
        "    if (end_date_6.weekday() > 4):\n",
        "      # print(\"weekend\")\n",
        "      end_date_6 = end_date_6- timedelta(2)\n",
        "    end_date_6 = end_date_6 -timedelta(1)\n",
        "  \n",
        "print(\"Start_date_1 ====  \" +str(start_date_1))\n",
        "print(\"End_date_1 ======  \"+str(end_date_1))\n",
        "print(\"Age  \"+str(i))\n",
        "print(\"Start_date_2 ====  \" +str(start_date_2))\n",
        "print(\"End_date_2 ======  \"+str(end_date_2))\n",
        "print(\"Age  \"+str(i))\n",
        "print(\"Start_date_3 ====  \" +str(start_date_3))\n",
        "print(\"End_date_3 ======  \"+str(end_date_3))\n",
        "print(\"Age  \"+str(i))\n",
        "print(\"Start_date_6 ====  \" +str(start_date_6))\n",
        "print(\"End_date_6 ======  \"+str(end_date_6))\n",
        "print(\"Age  \"+str(i))"
      ],
      "metadata": {
        "colab": {
          "base_uri": "https://localhost:8080/"
        },
        "id": "QrtR3Q2F41Em",
        "outputId": "9d6d9f83-074f-4d73-8a57-7022de20d449"
      },
      "execution_count": null,
      "outputs": [
        {
          "output_type": "stream",
          "name": "stdout",
          "text": [
            "print age 1\n",
            "0\n",
            "print age 2\n",
            "0\n",
            "print age 3\n",
            "0\n",
            "print age 6\n",
            "0\n",
            "Start_date_1 ====  2022-02-09 00:00:00\n",
            "End_date_1 ======  2022-02-10 00:00:00\n",
            "Age  6\n",
            "Start_date_2 ====  2022-02-08 00:00:00\n",
            "End_date_2 ======  2022-02-08 00:00:00\n",
            "Age  6\n",
            "Start_date_3 ====  2022-02-03 00:00:00\n",
            "End_date_3 ======  2022-02-07 00:00:00\n",
            "Age  6\n",
            "Start_date_6 ====  0001-01-01 00:00:00\n",
            "End_date_6 ======  2022-02-02 00:00:00\n",
            "Age  6\n"
          ]
        }
      ]
    },
    {
      "cell_type": "code",
      "metadata": {
        "id": "IPffcqSA4N1M"
      },
      "source": [
        "invoice = pd.read_excel('Unassign.xls')"
      ],
      "execution_count": null,
      "outputs": []
    },
    {
      "cell_type": "code",
      "metadata": {
        "colab": {
          "base_uri": "https://localhost:8080/",
          "height": 354
        },
        "id": "UlgdQsClrPDl",
        "outputId": "ce64202d-b877-494c-e5c6-bc385d93ccd0"
      },
      "source": [
        "invoice.head()"
      ],
      "execution_count": null,
      "outputs": [
        {
          "output_type": "execute_result",
          "data": {
            "text/html": [
              "\n",
              "  <div id=\"df-07cc90d6-f64f-474a-a9c4-43da7fc5428f\">\n",
              "    <div class=\"colab-df-container\">\n",
              "      <div>\n",
              "<style scoped>\n",
              "    .dataframe tbody tr th:only-of-type {\n",
              "        vertical-align: middle;\n",
              "    }\n",
              "\n",
              "    .dataframe tbody tr th {\n",
              "        vertical-align: top;\n",
              "    }\n",
              "\n",
              "    .dataframe thead th {\n",
              "        text-align: right;\n",
              "    }\n",
              "</style>\n",
              "<table border=\"1\" class=\"dataframe\">\n",
              "  <thead>\n",
              "    <tr style=\"text-align: right;\">\n",
              "      <th></th>\n",
              "      <th>Invoice Name</th>\n",
              "      <th>Vendor Name</th>\n",
              "      <th>Invoice Number</th>\n",
              "      <th>Invoice Date</th>\n",
              "      <th>Total</th>\n",
              "      <th>Last Comment</th>\n",
              "      <th>Policy Name</th>\n",
              "      <th>Create Date</th>\n",
              "    </tr>\n",
              "  </thead>\n",
              "  <tbody>\n",
              "    <tr>\n",
              "      <th>0</th>\n",
              "      <td>HENRY SCHEIN, INC.(HENR001#000)-87087374</td>\n",
              "      <td>HENRY SCHEIN, INC.</td>\n",
              "      <td>87087374</td>\n",
              "      <td>2020-12-08</td>\n",
              "      <td>102.76</td>\n",
              "      <td>Part of Schein discussion\\n</td>\n",
              "      <td>*Payment Request Policy</td>\n",
              "      <td>2021-05-13 14:24:19.387</td>\n",
              "    </tr>\n",
              "    <tr>\n",
              "      <th>1</th>\n",
              "      <td>HENRY SCHEIN, INC.(HENR001#000)-87268579</td>\n",
              "      <td>HENRY SCHEIN, INC.</td>\n",
              "      <td>87268579</td>\n",
              "      <td>2020-12-11</td>\n",
              "      <td>88.58</td>\n",
              "      <td>query-mail for henry schein closed office\\n</td>\n",
              "      <td>*Payment Request Policy</td>\n",
              "      <td>2021-05-13 14:44:37.867</td>\n",
              "    </tr>\n",
              "    <tr>\n",
              "      <th>2</th>\n",
              "      <td>HENRY SCHEIN, INC.(HENR001#000)-87268535</td>\n",
              "      <td>HENRY SCHEIN, INC.</td>\n",
              "      <td>87268535</td>\n",
              "      <td>2020-12-11</td>\n",
              "      <td>95.66</td>\n",
              "      <td>Part of Schein discussion\\n</td>\n",
              "      <td>*Payment Request Policy</td>\n",
              "      <td>2021-05-13 14:45:12.337</td>\n",
              "    </tr>\n",
              "    <tr>\n",
              "      <th>3</th>\n",
              "      <td>HENRY SCHEIN, INC.(HENR001#000)-87268558</td>\n",
              "      <td>HENRY SCHEIN, INC.</td>\n",
              "      <td>87268558</td>\n",
              "      <td>2020-12-11</td>\n",
              "      <td>95.66</td>\n",
              "      <td>Part of Schein discussion\\n</td>\n",
              "      <td>*Payment Request Policy</td>\n",
              "      <td>2021-05-13 14:45:19.460</td>\n",
              "    </tr>\n",
              "    <tr>\n",
              "      <th>4</th>\n",
              "      <td>HENRY SCHEIN, INC.(HENR001#000)-87602937</td>\n",
              "      <td>HENRY SCHEIN, INC.</td>\n",
              "      <td>87602937</td>\n",
              "      <td>2020-12-18</td>\n",
              "      <td>99.89</td>\n",
              "      <td>follow up email sent\\n</td>\n",
              "      <td>*Payment Request Policy</td>\n",
              "      <td>2021-05-27 10:41:22.367</td>\n",
              "    </tr>\n",
              "  </tbody>\n",
              "</table>\n",
              "</div>\n",
              "      <button class=\"colab-df-convert\" onclick=\"convertToInteractive('df-07cc90d6-f64f-474a-a9c4-43da7fc5428f')\"\n",
              "              title=\"Convert this dataframe to an interactive table.\"\n",
              "              style=\"display:none;\">\n",
              "        \n",
              "  <svg xmlns=\"http://www.w3.org/2000/svg\" height=\"24px\"viewBox=\"0 0 24 24\"\n",
              "       width=\"24px\">\n",
              "    <path d=\"M0 0h24v24H0V0z\" fill=\"none\"/>\n",
              "    <path d=\"M18.56 5.44l.94 2.06.94-2.06 2.06-.94-2.06-.94-.94-2.06-.94 2.06-2.06.94zm-11 1L8.5 8.5l.94-2.06 2.06-.94-2.06-.94L8.5 2.5l-.94 2.06-2.06.94zm10 10l.94 2.06.94-2.06 2.06-.94-2.06-.94-.94-2.06-.94 2.06-2.06.94z\"/><path d=\"M17.41 7.96l-1.37-1.37c-.4-.4-.92-.59-1.43-.59-.52 0-1.04.2-1.43.59L10.3 9.45l-7.72 7.72c-.78.78-.78 2.05 0 2.83L4 21.41c.39.39.9.59 1.41.59.51 0 1.02-.2 1.41-.59l7.78-7.78 2.81-2.81c.8-.78.8-2.07 0-2.86zM5.41 20L4 18.59l7.72-7.72 1.47 1.35L5.41 20z\"/>\n",
              "  </svg>\n",
              "      </button>\n",
              "      \n",
              "  <style>\n",
              "    .colab-df-container {\n",
              "      display:flex;\n",
              "      flex-wrap:wrap;\n",
              "      gap: 12px;\n",
              "    }\n",
              "\n",
              "    .colab-df-convert {\n",
              "      background-color: #E8F0FE;\n",
              "      border: none;\n",
              "      border-radius: 50%;\n",
              "      cursor: pointer;\n",
              "      display: none;\n",
              "      fill: #1967D2;\n",
              "      height: 32px;\n",
              "      padding: 0 0 0 0;\n",
              "      width: 32px;\n",
              "    }\n",
              "\n",
              "    .colab-df-convert:hover {\n",
              "      background-color: #E2EBFA;\n",
              "      box-shadow: 0px 1px 2px rgba(60, 64, 67, 0.3), 0px 1px 3px 1px rgba(60, 64, 67, 0.15);\n",
              "      fill: #174EA6;\n",
              "    }\n",
              "\n",
              "    [theme=dark] .colab-df-convert {\n",
              "      background-color: #3B4455;\n",
              "      fill: #D2E3FC;\n",
              "    }\n",
              "\n",
              "    [theme=dark] .colab-df-convert:hover {\n",
              "      background-color: #434B5C;\n",
              "      box-shadow: 0px 1px 3px 1px rgba(0, 0, 0, 0.15);\n",
              "      filter: drop-shadow(0px 1px 2px rgba(0, 0, 0, 0.3));\n",
              "      fill: #FFFFFF;\n",
              "    }\n",
              "  </style>\n",
              "\n",
              "      <script>\n",
              "        const buttonEl =\n",
              "          document.querySelector('#df-07cc90d6-f64f-474a-a9c4-43da7fc5428f button.colab-df-convert');\n",
              "        buttonEl.style.display =\n",
              "          google.colab.kernel.accessAllowed ? 'block' : 'none';\n",
              "\n",
              "        async function convertToInteractive(key) {\n",
              "          const element = document.querySelector('#df-07cc90d6-f64f-474a-a9c4-43da7fc5428f');\n",
              "          const dataTable =\n",
              "            await google.colab.kernel.invokeFunction('convertToInteractive',\n",
              "                                                     [key], {});\n",
              "          if (!dataTable) return;\n",
              "\n",
              "          const docLinkHtml = 'Like what you see? Visit the ' +\n",
              "            '<a target=\"_blank\" href=https://colab.research.google.com/notebooks/data_table.ipynb>data table notebook</a>'\n",
              "            + ' to learn more about interactive tables.';\n",
              "          element.innerHTML = '';\n",
              "          dataTable['output_type'] = 'display_data';\n",
              "          await google.colab.output.renderOutput(dataTable, element);\n",
              "          const docLink = document.createElement('div');\n",
              "          docLink.innerHTML = docLinkHtml;\n",
              "          element.appendChild(docLink);\n",
              "        }\n",
              "      </script>\n",
              "    </div>\n",
              "  </div>\n",
              "  "
            ],
            "text/plain": [
              "                               Invoice Name  ...             Create Date\n",
              "0  HENRY SCHEIN, INC.(HENR001#000)-87087374  ... 2021-05-13 14:24:19.387\n",
              "1  HENRY SCHEIN, INC.(HENR001#000)-87268579  ... 2021-05-13 14:44:37.867\n",
              "2  HENRY SCHEIN, INC.(HENR001#000)-87268535  ... 2021-05-13 14:45:12.337\n",
              "3  HENRY SCHEIN, INC.(HENR001#000)-87268558  ... 2021-05-13 14:45:19.460\n",
              "4  HENRY SCHEIN, INC.(HENR001#000)-87602937  ... 2021-05-27 10:41:22.367\n",
              "\n",
              "[5 rows x 8 columns]"
            ]
          },
          "metadata": {},
          "execution_count": 20
        }
      ]
    },
    {
      "cell_type": "code",
      "metadata": {
        "id": "VKYu0xZ1shl2"
      },
      "source": [
        "invoice['Create Date'] = pd.to_datetime(invoice['Create Date'])"
      ],
      "execution_count": null,
      "outputs": []
    },
    {
      "cell_type": "code",
      "metadata": {
        "colab": {
          "base_uri": "https://localhost:8080/",
          "height": 159
        },
        "id": "UjF0e3ZKtWYc",
        "outputId": "78b725fd-17fd-4833-98ed-f6285f0584e5"
      },
      "source": [
        "invoice.head(1)"
      ],
      "execution_count": null,
      "outputs": [
        {
          "output_type": "execute_result",
          "data": {
            "text/html": [
              "\n",
              "  <div id=\"df-337d3430-316c-4818-8537-6843c2a343d5\">\n",
              "    <div class=\"colab-df-container\">\n",
              "      <div>\n",
              "<style scoped>\n",
              "    .dataframe tbody tr th:only-of-type {\n",
              "        vertical-align: middle;\n",
              "    }\n",
              "\n",
              "    .dataframe tbody tr th {\n",
              "        vertical-align: top;\n",
              "    }\n",
              "\n",
              "    .dataframe thead th {\n",
              "        text-align: right;\n",
              "    }\n",
              "</style>\n",
              "<table border=\"1\" class=\"dataframe\">\n",
              "  <thead>\n",
              "    <tr style=\"text-align: right;\">\n",
              "      <th></th>\n",
              "      <th>Invoice Name</th>\n",
              "      <th>Vendor Name</th>\n",
              "      <th>Invoice Number</th>\n",
              "      <th>Invoice Date</th>\n",
              "      <th>Total</th>\n",
              "      <th>Last Comment</th>\n",
              "      <th>Policy Name</th>\n",
              "      <th>Create Date</th>\n",
              "    </tr>\n",
              "  </thead>\n",
              "  <tbody>\n",
              "    <tr>\n",
              "      <th>0</th>\n",
              "      <td>HENRY SCHEIN, INC.(HENR001#000)-87087374</td>\n",
              "      <td>HENRY SCHEIN, INC.</td>\n",
              "      <td>87087374</td>\n",
              "      <td>2020-12-08</td>\n",
              "      <td>102.76</td>\n",
              "      <td>Part of Schein discussion\\n</td>\n",
              "      <td>*Payment Request Policy</td>\n",
              "      <td>2021-05-13 14:24:19.387</td>\n",
              "    </tr>\n",
              "  </tbody>\n",
              "</table>\n",
              "</div>\n",
              "      <button class=\"colab-df-convert\" onclick=\"convertToInteractive('df-337d3430-316c-4818-8537-6843c2a343d5')\"\n",
              "              title=\"Convert this dataframe to an interactive table.\"\n",
              "              style=\"display:none;\">\n",
              "        \n",
              "  <svg xmlns=\"http://www.w3.org/2000/svg\" height=\"24px\"viewBox=\"0 0 24 24\"\n",
              "       width=\"24px\">\n",
              "    <path d=\"M0 0h24v24H0V0z\" fill=\"none\"/>\n",
              "    <path d=\"M18.56 5.44l.94 2.06.94-2.06 2.06-.94-2.06-.94-.94-2.06-.94 2.06-2.06.94zm-11 1L8.5 8.5l.94-2.06 2.06-.94-2.06-.94L8.5 2.5l-.94 2.06-2.06.94zm10 10l.94 2.06.94-2.06 2.06-.94-2.06-.94-.94-2.06-.94 2.06-2.06.94z\"/><path d=\"M17.41 7.96l-1.37-1.37c-.4-.4-.92-.59-1.43-.59-.52 0-1.04.2-1.43.59L10.3 9.45l-7.72 7.72c-.78.78-.78 2.05 0 2.83L4 21.41c.39.39.9.59 1.41.59.51 0 1.02-.2 1.41-.59l7.78-7.78 2.81-2.81c.8-.78.8-2.07 0-2.86zM5.41 20L4 18.59l7.72-7.72 1.47 1.35L5.41 20z\"/>\n",
              "  </svg>\n",
              "      </button>\n",
              "      \n",
              "  <style>\n",
              "    .colab-df-container {\n",
              "      display:flex;\n",
              "      flex-wrap:wrap;\n",
              "      gap: 12px;\n",
              "    }\n",
              "\n",
              "    .colab-df-convert {\n",
              "      background-color: #E8F0FE;\n",
              "      border: none;\n",
              "      border-radius: 50%;\n",
              "      cursor: pointer;\n",
              "      display: none;\n",
              "      fill: #1967D2;\n",
              "      height: 32px;\n",
              "      padding: 0 0 0 0;\n",
              "      width: 32px;\n",
              "    }\n",
              "\n",
              "    .colab-df-convert:hover {\n",
              "      background-color: #E2EBFA;\n",
              "      box-shadow: 0px 1px 2px rgba(60, 64, 67, 0.3), 0px 1px 3px 1px rgba(60, 64, 67, 0.15);\n",
              "      fill: #174EA6;\n",
              "    }\n",
              "\n",
              "    [theme=dark] .colab-df-convert {\n",
              "      background-color: #3B4455;\n",
              "      fill: #D2E3FC;\n",
              "    }\n",
              "\n",
              "    [theme=dark] .colab-df-convert:hover {\n",
              "      background-color: #434B5C;\n",
              "      box-shadow: 0px 1px 3px 1px rgba(0, 0, 0, 0.15);\n",
              "      filter: drop-shadow(0px 1px 2px rgba(0, 0, 0, 0.3));\n",
              "      fill: #FFFFFF;\n",
              "    }\n",
              "  </style>\n",
              "\n",
              "      <script>\n",
              "        const buttonEl =\n",
              "          document.querySelector('#df-337d3430-316c-4818-8537-6843c2a343d5 button.colab-df-convert');\n",
              "        buttonEl.style.display =\n",
              "          google.colab.kernel.accessAllowed ? 'block' : 'none';\n",
              "\n",
              "        async function convertToInteractive(key) {\n",
              "          const element = document.querySelector('#df-337d3430-316c-4818-8537-6843c2a343d5');\n",
              "          const dataTable =\n",
              "            await google.colab.kernel.invokeFunction('convertToInteractive',\n",
              "                                                     [key], {});\n",
              "          if (!dataTable) return;\n",
              "\n",
              "          const docLinkHtml = 'Like what you see? Visit the ' +\n",
              "            '<a target=\"_blank\" href=https://colab.research.google.com/notebooks/data_table.ipynb>data table notebook</a>'\n",
              "            + ' to learn more about interactive tables.';\n",
              "          element.innerHTML = '';\n",
              "          dataTable['output_type'] = 'display_data';\n",
              "          await google.colab.output.renderOutput(dataTable, element);\n",
              "          const docLink = document.createElement('div');\n",
              "          docLink.innerHTML = docLinkHtml;\n",
              "          element.appendChild(docLink);\n",
              "        }\n",
              "      </script>\n",
              "    </div>\n",
              "  </div>\n",
              "  "
            ],
            "text/plain": [
              "                               Invoice Name  ...             Create Date\n",
              "0  HENRY SCHEIN, INC.(HENR001#000)-87087374  ... 2021-05-13 14:24:19.387\n",
              "\n",
              "[1 rows x 8 columns]"
            ]
          },
          "metadata": {},
          "execution_count": 22
        }
      ]
    },
    {
      "cell_type": "code",
      "metadata": {
        "id": "eH3KcSDXtgSY"
      },
      "source": [
        "#  pd.DataFrame[column].dt.date\n",
        "date_filter_1 = (invoice['Create Date'].dt.date >= start_date_1.date()) & (invoice['Create Date'].dt.date <= end_date_1.date())\n",
        "date_filter_2 = (invoice['Create Date'].dt.date >= start_date_2.date()) & (invoice['Create Date'].dt.date <= end_date_2.date())\n",
        "date_filter_3 = (invoice['Create Date'].dt.date >= start_date_3.date()) & (invoice['Create Date'].dt.date <= end_date_3.date())\n",
        "date_filter_6 = (invoice['Create Date'].dt.date <= end_date_6.date())"
      ],
      "execution_count": null,
      "outputs": []
    },
    {
      "cell_type": "code",
      "metadata": {
        "id": "u3Xhn5jSttEh"
      },
      "source": [
        "df_date_filter_1 = invoice.loc[date_filter_1]\n",
        "df_date_filter_2 = invoice.loc[date_filter_2]\n",
        "df_date_filter_3 = invoice.loc[date_filter_3]\n",
        "df_date_filter_6 = invoice.loc[date_filter_6]"
      ],
      "execution_count": null,
      "outputs": []
    },
    {
      "cell_type": "code",
      "metadata": {
        "id": "83tGdcO-t0jV"
      },
      "source": [
        "day1 = pd.DataFrame(df_date_filter_1)\n",
        "day2 = pd.DataFrame(df_date_filter_2)\n",
        "day3 = pd.DataFrame(df_date_filter_3)\n",
        "day6 = pd.DataFrame(df_date_filter_6)\n",
        "day1_len = len(day1)\n",
        "day2_len = len(day2)\n",
        "day3_len = len(day3)\n",
        "day6_len = len(day6)\n",
        "total = day1_len + day2_len + day3_len + day6_len\n",
        "data = [{'Day 1':day1_len, 'Day 2': day2_len, 'Day 3 to 5': day3_len, 'More than 5 days': day6_len, 'Total': total}]\n",
        "df = pd.DataFrame(data)"
      ],
      "execution_count": null,
      "outputs": []
    },
    {
      "cell_type": "code",
      "metadata": {
        "id": "52sGy4Uv0z9L",
        "colab": {
          "base_uri": "https://localhost:8080/",
          "height": 17
        },
        "outputId": "d396a58b-1901-4edc-fb10-539251d68574"
      },
      "source": [
        "writer = pd.ExcelWriter('output.xlsx')\n",
        "df_date_filter_1.to_excel(writer, 'Day 1')\n",
        "df_date_filter_2.to_excel(writer, 'Day 2')\n",
        "df_date_filter_3.to_excel(writer, 'Day 3 to 5')\n",
        "df_date_filter_6.to_excel(writer, 'More than 5 days')\n",
        "df.to_excel(writer, 'Total')\n",
        "writer.save()\n",
        "from google.colab import files\n",
        "files.download(\"output.xlsx\")\n"
      ],
      "execution_count": null,
      "outputs": [
        {
          "output_type": "display_data",
          "data": {
            "application/javascript": [
              "\n",
              "    async function download(id, filename, size) {\n",
              "      if (!google.colab.kernel.accessAllowed) {\n",
              "        return;\n",
              "      }\n",
              "      const div = document.createElement('div');\n",
              "      const label = document.createElement('label');\n",
              "      label.textContent = `Downloading \"${filename}\": `;\n",
              "      div.appendChild(label);\n",
              "      const progress = document.createElement('progress');\n",
              "      progress.max = size;\n",
              "      div.appendChild(progress);\n",
              "      document.body.appendChild(div);\n",
              "\n",
              "      const buffers = [];\n",
              "      let downloaded = 0;\n",
              "\n",
              "      const channel = await google.colab.kernel.comms.open(id);\n",
              "      // Send a message to notify the kernel that we're ready.\n",
              "      channel.send({})\n",
              "\n",
              "      for await (const message of channel.messages) {\n",
              "        // Send a message to notify the kernel that we're ready.\n",
              "        channel.send({})\n",
              "        if (message.buffers) {\n",
              "          for (const buffer of message.buffers) {\n",
              "            buffers.push(buffer);\n",
              "            downloaded += buffer.byteLength;\n",
              "            progress.value = downloaded;\n",
              "          }\n",
              "        }\n",
              "      }\n",
              "      const blob = new Blob(buffers, {type: 'application/binary'});\n",
              "      const a = document.createElement('a');\n",
              "      a.href = window.URL.createObjectURL(blob);\n",
              "      a.download = filename;\n",
              "      div.appendChild(a);\n",
              "      a.click();\n",
              "      div.remove();\n",
              "    }\n",
              "  "
            ],
            "text/plain": [
              "<IPython.core.display.Javascript object>"
            ]
          },
          "metadata": {}
        },
        {
          "output_type": "display_data",
          "data": {
            "application/javascript": [
              "download(\"download_c8d2147e-1fbd-4079-b13a-4035fc7d5b8e\", \"output.xlsx\", 23798)"
            ],
            "text/plain": [
              "<IPython.core.display.Javascript object>"
            ]
          },
          "metadata": {}
        }
      ]
    },
    {
      "cell_type": "code",
      "source": [
        "# To Download in Excel format\n",
        "# df_date_filter.to_excel('fileName.xls', sheet_name='Sheet1', index=False, engine='xlsxwriter')\n",
        "# df_date_filter.to_excel('fileName.xls', sheet_name='Sheet2', index=False, engine='xlsxwriter')\n",
        "\n",
        "# To Download in CSV format\n",
        "# df_date_filter.to_csv('fileName_1.csv')\n",
        "# If you want to download data from different path location\n",
        "# df_date_filter.to_csv(r'C:\\Users\\925089\\OneDrive - Cool\\Desktop\\LeanIdea\\fileName_6.csv')"
      ],
      "metadata": {
        "id": "IDGu7ppi4rcS"
      },
      "execution_count": null,
      "outputs": []
    }
  ]
}